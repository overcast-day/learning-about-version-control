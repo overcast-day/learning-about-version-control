{
 "cells": [
  {
   "cell_type": "markdown",
   "id": "de8e5d22-eb05-4d35-aeb3-ff299afa24da",
   "metadata": {},
   "source": [
    "*Markdown Cell*"
   ]
  },
  {
   "cell_type": "code",
   "execution_count": 1,
   "id": "e15f04f4-a75a-46e2-a369-0bc0e5ebdfb0",
   "metadata": {},
   "outputs": [
    {
     "name": "stdout",
     "output_type": "stream",
     "text": [
      "Code Cell\n"
     ]
    }
   ],
   "source": [
    "print('Code Cell')"
   ]
  }
 ],
 "metadata": {
  "kernelspec": {
   "display_name": "Python 3 (ipykernel)",
   "language": "python",
   "name": "python3"
  },
  "language_info": {
   "codemirror_mode": {
    "name": "ipython",
    "version": 3
   },
   "file_extension": ".py",
   "mimetype": "text/x-python",
   "name": "python",
   "nbconvert_exporter": "python",
   "pygments_lexer": "ipython3",
   "version": "3.9.7"
  }
 },
 "nbformat": 4,
 "nbformat_minor": 5
}
